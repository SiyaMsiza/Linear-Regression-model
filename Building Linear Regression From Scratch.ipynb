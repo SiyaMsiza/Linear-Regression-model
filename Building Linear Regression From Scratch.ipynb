{
 "cells": [
  {
   "cell_type": "markdown",
   "id": "8bde688c",
   "metadata": {},
   "source": [
    "# Linear Regression"
   ]
  },
  {
   "cell_type": "markdown",
   "id": "11805691",
   "metadata": {},
   "source": [
    "## Y = wX + b\n",
    "where:\n",
    "\n",
    "Y ---> Dependent Variable\n",
    "\n",
    "X ---> Independent Variable\n",
    "\n",
    "w ---> Weight\n",
    "\n",
    "b ---> Bias"
   ]
  },
  {
   "cell_type": "markdown",
   "id": "2768ccdd",
   "metadata": {},
   "source": [
    "## Gradient Descent:\n",
    "- **Gradient descent** is an optimization algorithm used for minimizing the loss function in various machine learning algorithms. It is used for updating the parameters of the learning model.\n",
    "\n",
    "\n"
   ]
  },
  {
   "attachments": {
    "learning_rate.png": {
     "image/png": "[encoded data removed]"
    }
   },
   "cell_type": "markdown",
   "id": "e470b1e0",
   "metadata": {},
   "source": [
    "## Learning Rate\n",
    "- The **learning rate** is a tuning parameter in an optimization algorithm that determines the step size at each iteration while moving toward the minimum of a loss function.\n",
    "\n",
    "![learning_rate.png](attachment:learning_rate.png)"
   ]
  },
  {
   "cell_type": "code",
   "execution_count": 1,
   "id": "4dee5955",
   "metadata": {},
   "outputs": [],
   "source": [
    "#Import the require Library \n",
    "import numpy as np"
   ]
  },
  {
   "cell_type": "markdown",
   "id": "1ad218a4",
   "metadata": {},
   "source": [
    "### Linear Regression"
   ]
  },
  {
   "cell_type": "code",
   "execution_count": 48,
   "id": "ba1afd8c",
   "metadata": {},
   "outputs": [],
   "source": [
    "class Linear_Regression():\n",
    "    \n",
    " #Initiating the parameters (learning rate and number of iterations)    \n",
    "\n",
    "    def __init__ (self, learning_rate, no_of_iterations):\n",
    "        \n",
    "        self.learning_rate = learning_rate\n",
    "        self.no_of_iterations = no_of_iterations\n",
    "    \n",
    "    def fit(self, X, Y):\n",
    "        \n",
    "        # No. of training examples and number of features\n",
    "        \n",
    "        self.m, self.n = X.shape  #Number of rows and columns\n",
    "        \n",
    "        # Initiating the weight and bias\n",
    "        \n",
    "        self.w = np.zeros(self.n)\n",
    "        self.b = 0\n",
    "        self.X = X\n",
    "        self.Y = Y\n",
    "        \n",
    "        # Implementing gradient descent\n",
    "        \n",
    "        for i in range(self.no_of_iterations):\n",
    "            self.update_weights()\n",
    "        \n",
    "        \n",
    "    \n",
    "    def update_weights(self, ):\n",
    "        \n",
    "        Y_prediction = self.predict(self.X)\n",
    "        \n",
    "    # Calculate the gradients\n",
    "    \n",
    "        dw = - (2 * (self.X.T).dot(self.Y - Y_prediction)) / self.m\n",
    "    \n",
    "        db = - (2 * np.sum((self.Y - Y_prediction))) / self.m\n",
    "    \n",
    "    # Updating the weights\n",
    "        \n",
    "        self.w = self.w - self.learning_rate*dw\n",
    "        self.b = self.b - self.learning_rate*db\n",
    "        \n",
    "    def predict(self, X):\n",
    "        \n",
    "        return X.dot(self.w) + self.b\n",
    "        "
   ]
  },
  {
   "cell_type": "markdown",
   "id": "1c1c7860",
   "metadata": {},
   "source": [
    "## Implementing the linear regression"
   ]
  },
  {
   "cell_type": "code",
   "execution_count": 2,
   "id": "66ea16de",
   "metadata": {},
   "outputs": [],
   "source": [
    "#Import the necessary dependencies\n",
    "import numpy as np \n",
    "import pandas as pd\n",
    "import matplotlib.pyplot as plt\n",
    "import seaborn as sns\n",
    "from sklearn.model_selection import train_test_split"
   ]
  },
  {
   "cell_type": "code",
   "execution_count": 3,
   "id": "aea246fd",
   "metadata": {},
   "outputs": [
    {
     "data": {
      "text/plain": [
       "(30, 2)"
      ]
     },
     "execution_count": 3,
     "metadata": {},
     "output_type": "execute_result"
    }
   ],
   "source": [
    "#Import the dataset into pandas dataframe\n",
    "salary_data = pd.read_csv(r\"C:\\Users\\SiyaB\\Desktop\\AI & ML\\Module 7\\Linear Regression\\salary_data.csv\")\n",
    "salary_data.shape"
   ]
  },
  {
   "cell_type": "code",
   "execution_count": 4,
   "id": "e65ff4c9",
   "metadata": {},
   "outputs": [
    {
     "data": {
      "text/html": [
       "<div>\n",
       "<style scoped>\n",
       "    .dataframe tbody tr th:only-of-type {\n",
       "        vertical-align: middle;\n",
       "    }\n",
       "\n",
       "    .dataframe tbody tr th {\n",
       "        vertical-align: top;\n",
       "    }\n",
       "\n",
       "    .dataframe thead th {\n",
       "        text-align: right;\n",
       "    }\n",
       "</style>\n",
       "<table border=\"1\" class=\"dataframe\">\n",
       "  <thead>\n",
       "    <tr style=\"text-align: right;\">\n",
       "      <th></th>\n",
       "      <th>YearsExperience</th>\n",
       "      <th>Salary</th>\n",
       "    </tr>\n",
       "  </thead>\n",
       "  <tbody>\n",
       "    <tr>\n",
       "      <th>0</th>\n",
       "      <td>1.1</td>\n",
       "      <td>39343</td>\n",
       "    </tr>\n",
       "    <tr>\n",
       "      <th>1</th>\n",
       "      <td>1.3</td>\n",
       "      <td>46205</td>\n",
       "    </tr>\n",
       "    <tr>\n",
       "      <th>2</th>\n",
       "      <td>1.5</td>\n",
       "      <td>37731</td>\n",
       "    </tr>\n",
       "    <tr>\n",
       "      <th>3</th>\n",
       "      <td>2.0</td>\n",
       "      <td>43525</td>\n",
       "    </tr>\n",
       "    <tr>\n",
       "      <th>4</th>\n",
       "      <td>2.2</td>\n",
       "      <td>39891</td>\n",
       "    </tr>\n",
       "  </tbody>\n",
       "</table>\n",
       "</div>"
      ],
      "text/plain": [
       "   YearsExperience  Salary\n",
       "0              1.1   39343\n",
       "1              1.3   46205\n",
       "2              1.5   37731\n",
       "3              2.0   43525\n",
       "4              2.2   39891"
      ]
     },
     "execution_count": 4,
     "metadata": {},
     "output_type": "execute_result"
    }
   ],
   "source": [
    "#Load the first 5 rows of the data\n",
    "salary_data.head()"
   ]
  },
  {
   "cell_type": "code",
   "execution_count": 57,
   "id": "11b14590",
   "metadata": {},
   "outputs": [],
   "source": [
    "#Load the last 5 rows of the data\n",
    "salary_data.tail()"
   ]
  },
  {
   "cell_type": "code",
   "execution_count": 58,
   "id": "faa6e4ed",
   "metadata": {},
   "outputs": [],
   "source": [
    "#Check for missing values\n",
    "salary_data.isnull().sum()"
   ]
  },
  {
   "cell_type": "code",
   "execution_count": 42,
   "id": "ea68dc83",
   "metadata": {},
   "outputs": [
    {
     "name": "stdout",
     "output_type": "stream",
     "text": [
      "(30, 1)\n"
     ]
    }
   ],
   "source": [
    "#Separating the data into feature and target variables\n",
    "X = salary_data[['YearsExperience']]\n",
    "Y = salary_data['Salary'].values\n",
    "print(X.shape)"
   ]
  },
  {
   "cell_type": "code",
   "execution_count": 39,
   "id": "6cf4699c",
   "metadata": {},
   "outputs": [
    {
     "name": "stdout",
     "output_type": "stream",
     "text": [
      "(30, 1)\n"
     ]
    }
   ],
   "source": [
    "X = salary_data.iloc[: , :-1].values\n",
    "Y = salary_data.iloc[:, 1].values\n",
    "print(X.shape)"
   ]
  },
  {
   "cell_type": "code",
   "execution_count": 43,
   "id": "276e25cc",
   "metadata": {},
   "outputs": [],
   "source": [
    "#Splitting the data into training and testing data\n",
    "X_train, X_test, Y_train, Y_test = train_test_split(X, Y, test_size = 0.3, random_state = 2)  "
   ]
  },
  {
   "cell_type": "code",
   "execution_count": 49,
   "id": "b11cafc5",
   "metadata": {},
   "outputs": [
    {
     "data": {
      "text/plain": [
       "<__main__.Linear_Regression at 0x1b4e49819d0>"
      ]
     },
     "execution_count": 49,
     "metadata": {},
     "output_type": "execute_result"
    }
   ],
   "source": [
    "#Training the linear regression model \n",
    "model = Linear_Regression(learning_rate = 0.02, no_of_iterations = 1000)\n",
    "model"
   ]
  },
  {
   "cell_type": "code",
   "execution_count": 50,
   "id": "e43ac4a3",
   "metadata": {},
   "outputs": [],
   "source": [
    "#Fit the linear regression model with the training data\n",
    "model.fit(X_train, Y_train)\n"
   ]
  },
  {
   "cell_type": "code",
   "execution_count": 54,
   "id": "a0fa8241",
   "metadata": {},
   "outputs": [
    {
     "name": "stdout",
     "output_type": "stream",
     "text": [
      "weight =  9534.934692142133\n",
      "bias =  23735.97251425514\n"
     ]
    }
   ],
   "source": [
    "#Print the parameter values\n",
    "print('weight = ', model.w[0])\n",
    "print('bias = ', model.b)"
   ]
  },
  {
   "cell_type": "markdown",
   "id": "d74cd564",
   "metadata": {},
   "source": [
    "**The Linear regression equation:**\n",
    "\n",
    "y = 9534X + 23735\n",
    "\n",
    "salary = 9534(experience) + 23735"
   ]
  },
  {
   "cell_type": "code",
   "execution_count": 55,
   "id": "669515fd",
   "metadata": {},
   "outputs": [
    {
     "name": "stdout",
     "output_type": "stream",
     "text": [
      "1      36131.387614\n",
      "0      34224.400676\n",
      "14     66643.178629\n",
      "9      59015.230875\n",
      "21     91434.008828\n",
      "19     80945.580667\n",
      "23    101922.436990\n",
      "6      52340.776591\n",
      "3      42805.841899\n",
      "dtype: float64\n"
     ]
    }
   ],
   "source": [
    "#Predicting the salary values for test data\n",
    "test_data_prediction = model.predict(X_test)\n",
    "print(test_data_prediction)"
   ]
  },
  {
   "cell_type": "code",
   "execution_count": 56,
   "id": "52ce29b9",
   "metadata": {},
   "outputs": [
    {
     "data": {
      "image/png": "[encoded data removed]",
      "text/plain": [
       "<Figure size 640x480 with 1 Axes>"
      ]
     },
     "metadata": {},
     "output_type": "display_data"
    }
   ],
   "source": [
    "#Visualizing the predicted values vs the actual values\n",
    "plt.scatter(X_test, Y_test, color = 'r')\n",
    "plt.plot(X_test, test_data_prediction, color = 'b')\n",
    "plt.xlabel('Years of Experience')\n",
    "plt.ylabel('Salary')\n",
    "plt.title('Salary vs. Years of Experience')\n",
    "plt.show()"
   ]
  },
  {
   "cell_type": "code",
   "execution_count": null,
   "id": "0eaf59de",
   "metadata": {},
   "outputs": [],
   "source": []
  }
 ],
 "metadata": {
  "kernelspec": {
   "display_name": "Python 3 (ipykernel)",
   "language": "python",
   "name": "python3"
  },
  "language_info": {
   "codemirror_mode": {
    "name": "ipython",
    "version": 3
   },
   "file_extension": ".py",
   "mimetype": "text/x-python",
   "name": "python",
   "nbconvert_exporter": "python",
   "pygments_lexer": "ipython3",
   "version": "3.9.13"
  }
 },
 "nbformat": 4,
 "nbformat_minor": 5
}
